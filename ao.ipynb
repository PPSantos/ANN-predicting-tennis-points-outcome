{
 "cells": [
  {
   "cell_type": "markdown",
   "metadata": {},
   "source": [
    "# Predicting how points end in tennis"
   ]
  },
  {
   "cell_type": "markdown",
   "metadata": {},
   "source": [
    "## Abstract"
   ]
  },
  {
   "cell_type": "markdown",
   "metadata": {},
   "source": [
    "This is part of the code that I used in my solution to the CrowdAnalytix competition. It uses a three-layer neural network to predict the outcome of a tennis points among three classes (Winner, Forced error, Unforced error). The described solution is very raw and I think many improvements could still be made to improve the accuracy of the model (better feature engineering/model ensembling). My final model achieved an accuracy around 90%."
   ]
  },
  {
   "cell_type": "markdown",
   "metadata": {},
   "source": [
    "## Motivation\n",
    "Tennis, one of the most popular professional sports around the world, still uses manual coding of point outcomes.  This is not only labor-intensive but it also raises concerns that outcome categories may not always be consistent from one coder to the next. The purpose of this contest is to find a better approach. "
   ]
  },
  {
   "cell_type": "markdown",
   "metadata": {},
   "source": [
    "## Point Endings\n",
    "Every tennis match is made up of a sequence of points. A point begins with a serve and players exchange shots until a player makes an error or is unable to return a shot in play. \n",
    "\n",
    "Traditionally, the shot ending a point in tennis has been had been described in one of three mutually exclusive ways: a winner, an unforced error, or a forced error. A winner is a shot that was in play, not touched by the opponent, and ends with the point going to the player who made the shot. The other two categories are two distinct types of errors where both end with the point going to the player who did not make the shot. The distinction between an unforced and forced error is based on the nature of the incoming shot and a judgment about whether the shot was playable or not. As you can imagine, this distinction is not a perfect science.  "
   ]
  },
  {
   "cell_type": "markdown",
   "metadata": {},
   "source": [
    "## Outcome Coding\n",
    "Point endings give us insight into player performance. For this reason, accurate statistics about point outcomes are essential to the sport. At professional tennis tournaments, human coders are trained to label and document outcomes during matches. This is the primary way that the sport gathers information about winners and errors. "
   ]
  },
  {
   "cell_type": "markdown",
   "metadata": {},
   "source": [
    "## Tracking Data\n",
    "The adoption of the player challenge system in the mid-2000s has lead to the use of multi-camera tracking systems for the majority of top professional matches. These tracking systems monitor the 3D coordinates of the ball position and 2D coordinates of the player position throughout a match. The richness of these data hold considerable promise for addressing many challenging questions in the sport."
   ]
  },
  {
   "cell_type": "markdown",
   "metadata": {},
   "source": [
    "## Objective\n",
    "\n",
    "The objective of this contest is as follows:\n",
    "\n",
    "* Predict how a point ends in tennis using modern tracking data."
   ]
  },
  {
   "cell_type": "code",
   "execution_count": 1,
   "metadata": {},
   "outputs": [
    {
     "name": "stderr",
     "output_type": "stream",
     "text": [
      "Using TensorFlow backend.\n"
     ]
    }
   ],
   "source": [
    "import warnings; warnings.simplefilter('ignore')\n",
    "\n",
    "from time import time\n",
    "import numpy as np\n",
    "import pandas as pd\n",
    "\n",
    "from sklearn.preprocessing import LabelEncoder, StandardScaler\n",
    "from sklearn.model_selection import train_test_split, cross_val_score\n",
    "\n",
    "import keras\n",
    "from keras.models import Sequential\n",
    "from keras.layers import Dense, Dropout, Activation\n",
    "from keras.optimizers import SGD, Adam\n",
    "from keras.callbacks import TensorBoard\n",
    "from keras.wrappers.scikit_learn import KerasClassifier"
   ]
  },
  {
   "cell_type": "markdown",
   "metadata": {},
   "source": [
    "## Data"
   ]
  },
  {
   "cell_type": "code",
   "execution_count": 2,
   "metadata": {
    "collapsed": true
   },
   "outputs": [],
   "source": [
    "# Train data.\n",
    "df_mens = pd.read_csv('data/mens_train_file.csv', sep=',',header=0)\n",
    "df_womens = pd.read_csv('data/womens_train_file.csv', sep=',',header=0)\n",
    "frames = [df_mens, df_womens]\n",
    "df = pd.concat(frames)"
   ]
  },
  {
   "cell_type": "code",
   "execution_count": 3,
   "metadata": {},
   "outputs": [
    {
     "name": "stdout",
     "output_type": "stream",
     "text": [
      "   rally  serve hitpoint      speed  net.clearance  distance.from.sideline  \\\n",
      "0      4      1        B  35.515042      -0.021725                3.474766   \n",
      "1      4      2        B  33.382640       1.114202                2.540801   \n",
      "2     23      1        B  22.316690      -0.254046                3.533166   \n",
      "3      9      1        F  36.837309       0.766694                0.586885   \n",
      "4      4      1        B  35.544208       0.116162                0.918725   \n",
      "\n",
      "      depth  outside.sideline  outside.baseline  player.distance.travelled  \\\n",
      "0  6.797621             False             False                   1.467570   \n",
      "1  2.608708             False              True                   2.311931   \n",
      "2  9.435749             False             False                   3.903728   \n",
      "3  3.342180              True             False                   0.583745   \n",
      "4  5.499119             False             False                   2.333456   \n",
      "\n",
      "    ...    opponent.depth  opponent.distance.from.center  same.side  \\\n",
      "0   ...           12.5628                         2.0724       True   \n",
      "1   ...           12.3544                         5.1124      False   \n",
      "2   ...           13.8620                         1.6564      False   \n",
      "3   ...           14.2596                         0.1606       True   \n",
      "4   ...           11.3658                         1.1082      False   \n",
      "\n",
      "   previous.hitpoint  previous.time.to.net  server.is.impact.player    id  \\\n",
      "0                  F              0.445318                    False  5718   \n",
      "1                  B              0.432434                    False   371   \n",
      "2                  F              0.397538                     True  7948   \n",
      "3                  B              0.671984                     True  9312   \n",
      "4                  F              0.340411                    False  7667   \n",
      "\n",
      "   train  outcome  gender  \n",
      "0      1       UE    mens  \n",
      "1      1       FE    mens  \n",
      "2      1       FE    mens  \n",
      "3      1       UE    mens  \n",
      "4      1        W    mens  \n",
      "\n",
      "[5 rows x 28 columns]\n"
     ]
    }
   ],
   "source": [
    "print(df.head())"
   ]
  },
  {
   "cell_type": "code",
   "execution_count": 29,
   "metadata": {},
   "outputs": [
    {
     "name": "stdout",
     "output_type": "stream",
     "text": [
      "[[1 'B' 35.51504197 ... 'F' 0.445317963 False]\n",
      " [2 'B' 33.38264003 ... 'B' 0.43243397299999997 False]\n",
      " [1 'B' 22.3166902 ... 'F' 0.397537762 True]\n",
      " ...\n",
      " [2 'F' 16.90628902 ... 'B' 0.966185615 False]\n",
      " [2 'F' 15.19971253 ... 'B' 0.887608207 False]\n",
      " [1 'F' 30.67953985 ... 'B' 0.562388497 True]]\n",
      "['UE' 'FE' 'FE' ... 'W' 'W' 'UE']\n",
      "(10000, 23)\n",
      "(10000,)\n"
     ]
    }
   ],
   "source": [
    "X = df.iloc[:, 1:24].values\n",
    "Y = df.iloc[:, 26].values\n",
    "print(X)\n",
    "print(Y)\n",
    "print(X.shape)\n",
    "print(Y.shape)"
   ]
  },
  {
   "cell_type": "markdown",
   "metadata": {},
   "source": [
    "### Pre-processing"
   ]
  },
  {
   "cell_type": "code",
   "execution_count": 30,
   "metadata": {},
   "outputs": [],
   "source": [
    "# Encoding categorical data.\n",
    "labelEncoder = LabelEncoder()\n",
    "for col in [1,6,7,19,20,22]:\n",
    "    X[:, col] = labelEncoder.fit_transform(X[:, col])\n",
    "    \n",
    "from sklearn.feature_selection import SelectPercentile, f_classif\n",
    "p = SelectPercentile(f_classif, percentile=90)\n",
    "X = p.fit_transform(X, Y)\n",
    "\n",
    "# Categorical representation: ['FE', 'UE', 'W']\n",
    "Y = keras.utils.to_categorical(labelEncoder.fit_transform(Y), num_classes=3)\n",
    "\n",
    "X_train, X_test, Y_train, Y_test = train_test_split(X, Y, test_size=0.2, shuffle=True)\n",
    "\n",
    "# Feature Scaling.\n",
    "sc = StandardScaler()\n",
    "X_train = sc.fit_transform(X_train)\n",
    "X_test = sc.transform(X_test)\n"
   ]
  },
  {
   "cell_type": "code",
   "execution_count": 31,
   "metadata": {},
   "outputs": [
    {
     "name": "stdout",
     "output_type": "stream",
     "text": [
      "X_train:  (8000, 20)\n",
      "Y_train:  (8000, 3)\n",
      "X_test:  (2000, 20)\n",
      "Y_test:  (2000, 3)\n"
     ]
    }
   ],
   "source": [
    "# Check shapes.\n",
    "print(\"X_train: \", X_train.shape)\n",
    "print(\"Y_train: \", Y_train.shape)\n",
    "print(\"X_test: \", X_test.shape)\n",
    "print(\"Y_test: \", Y_test.shape)"
   ]
  },
  {
   "cell_type": "markdown",
   "metadata": {},
   "source": [
    "### Model"
   ]
  },
  {
   "cell_type": "code",
   "execution_count": 32,
   "metadata": {
    "collapsed": true
   },
   "outputs": [],
   "source": [
    "def classifier():\n",
    "\n",
    "    model = Sequential()\n",
    "\n",
    "    model.add(Dense(64, activation='relu', input_dim=X_train.shape[1]))\n",
    "    model.add(Dropout(0.3))\n",
    "    model.add(Dense(64, activation='relu'))\n",
    "    model.add(Dropout(0.3))\n",
    "    model.add(Dense(64, activation='relu'))\n",
    "    model.add(Dropout(0.3))\n",
    "    model.add(Dense(3, activation='softmax'))\n",
    "\n",
    "    model.compile(loss='categorical_crossentropy',\n",
    "                optimizer='adam',\n",
    "                metrics=['accuracy'])\n",
    "\n",
    "    return model"
   ]
  },
  {
   "cell_type": "code",
   "execution_count": 33,
   "metadata": {},
   "outputs": [
    {
     "name": "stdout",
     "output_type": "stream",
     "text": [
      "_________________________________________________________________\n",
      "Layer (type)                 Output Shape              Param #   \n",
      "=================================================================\n",
      "dense_17 (Dense)             (None, 64)                1344      \n",
      "_________________________________________________________________\n",
      "dropout_13 (Dropout)         (None, 64)                0         \n",
      "_________________________________________________________________\n",
      "dense_18 (Dense)             (None, 64)                4160      \n",
      "_________________________________________________________________\n",
      "dropout_14 (Dropout)         (None, 64)                0         \n",
      "_________________________________________________________________\n",
      "dense_19 (Dense)             (None, 64)                4160      \n",
      "_________________________________________________________________\n",
      "dropout_15 (Dropout)         (None, 64)                0         \n",
      "_________________________________________________________________\n",
      "dense_20 (Dense)             (None, 3)                 195       \n",
      "=================================================================\n",
      "Total params: 9,859\n",
      "Trainable params: 9,859\n",
      "Non-trainable params: 0\n",
      "_________________________________________________________________\n",
      "None\n"
     ]
    }
   ],
   "source": [
    "model = classifier()\n",
    "\n",
    "# Model summary.\n",
    "print(model.summary())"
   ]
  },
  {
   "cell_type": "markdown",
   "metadata": {},
   "source": [
    "![title](img/graph.png)"
   ]
  },
  {
   "cell_type": "markdown",
   "metadata": {},
   "source": [
    "### Train"
   ]
  },
  {
   "cell_type": "code",
   "execution_count": 34,
   "metadata": {},
   "outputs": [
    {
     "name": "stdout",
     "output_type": "stream",
     "text": [
      "Epoch 1/125\n",
      "8000/8000 [==============================] - 1s 77us/step - loss: 0.7817 - acc: 0.6528\n",
      "Epoch 2/125\n",
      "8000/8000 [==============================] - 0s 62us/step - loss: 0.5712 - acc: 0.7749\n",
      "Epoch 3/125\n",
      "8000/8000 [==============================] - 0s 60us/step - loss: 0.5211 - acc: 0.7928\n",
      "Epoch 4/125\n",
      "8000/8000 [==============================] - 0s 60us/step - loss: 0.4987 - acc: 0.8035\n",
      "Epoch 5/125\n",
      "8000/8000 [==============================] - 0s 58us/step - loss: 0.4944 - acc: 0.8079\n",
      "Epoch 6/125\n",
      "8000/8000 [==============================] - 0s 53us/step - loss: 0.4656 - acc: 0.8184\n",
      "Epoch 7/125\n",
      "8000/8000 [==============================] - 0s 57us/step - loss: 0.4572 - acc: 0.8244\n",
      "Epoch 8/125\n",
      "8000/8000 [==============================] - 0s 61us/step - loss: 0.4471 - acc: 0.8275\n",
      "Epoch 9/125\n",
      "8000/8000 [==============================] - 0s 60us/step - loss: 0.4420 - acc: 0.8275\n",
      "Epoch 10/125\n",
      "8000/8000 [==============================] - 0s 61us/step - loss: 0.4306 - acc: 0.8366\n",
      "Epoch 11/125\n",
      "8000/8000 [==============================] - 0s 60us/step - loss: 0.4213 - acc: 0.8371\n",
      "Epoch 12/125\n",
      "8000/8000 [==============================] - 0s 58us/step - loss: 0.4130 - acc: 0.8412\n",
      "Epoch 13/125\n",
      "8000/8000 [==============================] - 0s 57us/step - loss: 0.4119 - acc: 0.8461\n",
      "Epoch 14/125\n",
      "8000/8000 [==============================] - 0s 62us/step - loss: 0.4126 - acc: 0.8429\n",
      "Epoch 15/125\n",
      "8000/8000 [==============================] - 0s 59us/step - loss: 0.3971 - acc: 0.8467\n",
      "Epoch 16/125\n",
      "8000/8000 [==============================] - 0s 58us/step - loss: 0.4006 - acc: 0.8502\n",
      "Epoch 17/125\n",
      "8000/8000 [==============================] - 0s 62us/step - loss: 0.3900 - acc: 0.8521\n",
      "Epoch 18/125\n",
      "8000/8000 [==============================] - 0s 59us/step - loss: 0.3884 - acc: 0.8557\n",
      "Epoch 19/125\n",
      "8000/8000 [==============================] - 1s 64us/step - loss: 0.3799 - acc: 0.8522\n",
      "Epoch 20/125\n",
      "8000/8000 [==============================] - 0s 61us/step - loss: 0.3790 - acc: 0.8575\n",
      "Epoch 21/125\n",
      "8000/8000 [==============================] - 0s 60us/step - loss: 0.3688 - acc: 0.8604\n",
      "Epoch 22/125\n",
      "8000/8000 [==============================] - 0s 61us/step - loss: 0.3713 - acc: 0.8612\n",
      "Epoch 23/125\n",
      "8000/8000 [==============================] - 0s 60us/step - loss: 0.3665 - acc: 0.8627\n",
      "Epoch 24/125\n",
      "8000/8000 [==============================] - 0s 60us/step - loss: 0.3643 - acc: 0.8611\n",
      "Epoch 25/125\n",
      "8000/8000 [==============================] - 0s 61us/step - loss: 0.3610 - acc: 0.8636\n",
      "Epoch 26/125\n",
      "8000/8000 [==============================] - 0s 61us/step - loss: 0.3668 - acc: 0.8624\n",
      "Epoch 27/125\n",
      "8000/8000 [==============================] - 0s 60us/step - loss: 0.3570 - acc: 0.8641\n",
      "Epoch 28/125\n",
      "8000/8000 [==============================] - 0s 61us/step - loss: 0.3571 - acc: 0.8664\n",
      "Epoch 29/125\n",
      "8000/8000 [==============================] - 0s 62us/step - loss: 0.3530 - acc: 0.8626\n",
      "Epoch 30/125\n",
      "8000/8000 [==============================] - 0s 61us/step - loss: 0.3569 - acc: 0.8617\n",
      "Epoch 31/125\n",
      "8000/8000 [==============================] - 0s 58us/step - loss: 0.3509 - acc: 0.8669\n",
      "Epoch 32/125\n",
      "8000/8000 [==============================] - 1s 64us/step - loss: 0.3479 - acc: 0.8664\n",
      "Epoch 33/125\n",
      "8000/8000 [==============================] - 1s 64us/step - loss: 0.3474 - acc: 0.8700\n",
      "Epoch 34/125\n",
      "8000/8000 [==============================] - 1s 63us/step - loss: 0.3418 - acc: 0.8704\n",
      "Epoch 35/125\n",
      "8000/8000 [==============================] - 0s 57us/step - loss: 0.3393 - acc: 0.8702\n",
      "Epoch 36/125\n",
      "8000/8000 [==============================] - 1s 63us/step - loss: 0.3402 - acc: 0.8707\n",
      "Epoch 37/125\n",
      "8000/8000 [==============================] - 1s 67us/step - loss: 0.3418 - acc: 0.8709\n",
      "Epoch 38/125\n",
      "8000/8000 [==============================] - 0s 61us/step - loss: 0.3359 - acc: 0.8747\n",
      "Epoch 39/125\n",
      "8000/8000 [==============================] - 0s 57us/step - loss: 0.3410 - acc: 0.8701\n",
      "Epoch 40/125\n",
      "8000/8000 [==============================] - 1s 65us/step - loss: 0.3343 - acc: 0.8726\n",
      "Epoch 41/125\n",
      "8000/8000 [==============================] - 1s 67us/step - loss: 0.3355 - acc: 0.8730\n",
      "Epoch 42/125\n",
      "8000/8000 [==============================] - 1s 64us/step - loss: 0.3331 - acc: 0.8760\n",
      "Epoch 43/125\n",
      "8000/8000 [==============================] - 0s 62us/step - loss: 0.3335 - acc: 0.8734\n",
      "Epoch 44/125\n",
      "8000/8000 [==============================] - 1s 69us/step - loss: 0.3217 - acc: 0.8715\n",
      "Epoch 45/125\n",
      "8000/8000 [==============================] - 1s 63us/step - loss: 0.3295 - acc: 0.8751\n",
      "Epoch 46/125\n",
      "8000/8000 [==============================] - 1s 63us/step - loss: 0.3262 - acc: 0.8775\n",
      "Epoch 47/125\n",
      "8000/8000 [==============================] - 1s 65us/step - loss: 0.3271 - acc: 0.8784\n",
      "Epoch 48/125\n",
      "8000/8000 [==============================] - 0s 62us/step - loss: 0.3235 - acc: 0.8794\n",
      "Epoch 49/125\n",
      "8000/8000 [==============================] - 1s 69us/step - loss: 0.3181 - acc: 0.8761\n",
      "Epoch 50/125\n",
      "8000/8000 [==============================] - 1s 64us/step - loss: 0.3235 - acc: 0.8791\n",
      "Epoch 51/125\n",
      "8000/8000 [==============================] - 1s 67us/step - loss: 0.3244 - acc: 0.8777\n",
      "Epoch 52/125\n",
      "8000/8000 [==============================] - 1s 63us/step - loss: 0.3167 - acc: 0.8795\n",
      "Epoch 53/125\n",
      "8000/8000 [==============================] - 1s 66us/step - loss: 0.3280 - acc: 0.8761\n",
      "Epoch 54/125\n",
      "8000/8000 [==============================] - 0s 60us/step - loss: 0.3160 - acc: 0.8807\n",
      "Epoch 55/125\n",
      "8000/8000 [==============================] - 1s 63us/step - loss: 0.3186 - acc: 0.8772\n",
      "Epoch 56/125\n",
      "8000/8000 [==============================] - 1s 65us/step - loss: 0.3206 - acc: 0.8821\n",
      "Epoch 57/125\n",
      "8000/8000 [==============================] - 1s 67us/step - loss: 0.3123 - acc: 0.8831\n",
      "Epoch 58/125\n",
      "8000/8000 [==============================] - 0s 62us/step - loss: 0.3175 - acc: 0.8801\n",
      "Epoch 59/125\n",
      "8000/8000 [==============================] - 1s 67us/step - loss: 0.3146 - acc: 0.8829\n",
      "Epoch 60/125\n",
      "8000/8000 [==============================] - 1s 63us/step - loss: 0.3160 - acc: 0.8781\n",
      "Epoch 61/125\n",
      "8000/8000 [==============================] - 0s 62us/step - loss: 0.3144 - acc: 0.8779\n",
      "Epoch 62/125\n",
      "8000/8000 [==============================] - 1s 68us/step - loss: 0.3101 - acc: 0.8826\n",
      "Epoch 63/125\n",
      "8000/8000 [==============================] - 1s 66us/step - loss: 0.3146 - acc: 0.8780\n",
      "Epoch 64/125\n",
      "8000/8000 [==============================] - 1s 65us/step - loss: 0.3120 - acc: 0.8809\n",
      "Epoch 65/125\n",
      "8000/8000 [==============================] - 1s 66us/step - loss: 0.3153 - acc: 0.8787\n",
      "Epoch 66/125\n",
      "8000/8000 [==============================] - 0s 61us/step - loss: 0.3097 - acc: 0.8827\n",
      "Epoch 67/125\n",
      "8000/8000 [==============================] - 1s 67us/step - loss: 0.3057 - acc: 0.8842\n",
      "Epoch 68/125\n",
      "8000/8000 [==============================] - 1s 63us/step - loss: 0.3075 - acc: 0.8834\n",
      "Epoch 69/125\n",
      "8000/8000 [==============================] - 1s 66us/step - loss: 0.3138 - acc: 0.8785\n",
      "Epoch 70/125\n",
      "8000/8000 [==============================] - 0s 62us/step - loss: 0.3096 - acc: 0.8811\n",
      "Epoch 71/125\n",
      "8000/8000 [==============================] - 1s 69us/step - loss: 0.3040 - acc: 0.8826\n",
      "Epoch 72/125\n",
      "8000/8000 [==============================] - 1s 67us/step - loss: 0.3088 - acc: 0.8841\n",
      "Epoch 73/125\n",
      "8000/8000 [==============================] - 0s 62us/step - loss: 0.3083 - acc: 0.8816\n",
      "Epoch 74/125\n",
      "8000/8000 [==============================] - 1s 67us/step - loss: 0.3039 - acc: 0.8847\n",
      "Epoch 75/125\n",
      "8000/8000 [==============================] - 1s 63us/step - loss: 0.3014 - acc: 0.8822\n",
      "Epoch 76/125\n",
      "8000/8000 [==============================] - 1s 66us/step - loss: 0.3099 - acc: 0.8839\n",
      "Epoch 77/125\n",
      "8000/8000 [==============================] - 1s 64us/step - loss: 0.3027 - acc: 0.8861\n",
      "Epoch 78/125\n",
      "8000/8000 [==============================] - 1s 66us/step - loss: 0.3114 - acc: 0.8824\n",
      "Epoch 79/125\n",
      "8000/8000 [==============================] - 1s 67us/step - loss: 0.3055 - acc: 0.8824\n",
      "Epoch 80/125\n",
      "8000/8000 [==============================] - 1s 64us/step - loss: 0.3006 - acc: 0.8865\n",
      "Epoch 81/125\n",
      "8000/8000 [==============================] - 1s 67us/step - loss: 0.3012 - acc: 0.8831\n",
      "Epoch 82/125\n",
      "8000/8000 [==============================] - 1s 65us/step - loss: 0.3033 - acc: 0.8824\n",
      "Epoch 83/125\n"
     ]
    },
    {
     "name": "stdout",
     "output_type": "stream",
     "text": [
      "8000/8000 [==============================] - 1s 64us/step - loss: 0.2963 - acc: 0.8876\n",
      "Epoch 84/125\n",
      "8000/8000 [==============================] - 1s 65us/step - loss: 0.3064 - acc: 0.8827\n",
      "Epoch 85/125\n",
      "8000/8000 [==============================] - 1s 64us/step - loss: 0.3028 - acc: 0.8850\n",
      "Epoch 86/125\n",
      "8000/8000 [==============================] - 1s 66us/step - loss: 0.3009 - acc: 0.8839\n",
      "Epoch 87/125\n",
      "8000/8000 [==============================] - 1s 66us/step - loss: 0.3014 - acc: 0.8864\n",
      "Epoch 88/125\n",
      "8000/8000 [==============================] - 1s 68us/step - loss: 0.2973 - acc: 0.8857\n",
      "Epoch 89/125\n",
      "8000/8000 [==============================] - 1s 66us/step - loss: 0.2921 - acc: 0.8855\n",
      "Epoch 90/125\n",
      "8000/8000 [==============================] - 1s 75us/step - loss: 0.3011 - acc: 0.8917\n",
      "Epoch 91/125\n",
      "8000/8000 [==============================] - 1s 63us/step - loss: 0.2990 - acc: 0.8837\n",
      "Epoch 92/125\n",
      "8000/8000 [==============================] - 1s 67us/step - loss: 0.2987 - acc: 0.8862\n",
      "Epoch 93/125\n",
      "8000/8000 [==============================] - 1s 64us/step - loss: 0.3015 - acc: 0.8837\n",
      "Epoch 94/125\n",
      "8000/8000 [==============================] - 1s 66us/step - loss: 0.3004 - acc: 0.8865\n",
      "Epoch 95/125\n",
      "8000/8000 [==============================] - 1s 67us/step - loss: 0.2973 - acc: 0.8882\n",
      "Epoch 96/125\n",
      "8000/8000 [==============================] - 1s 67us/step - loss: 0.2951 - acc: 0.8862\n",
      "Epoch 97/125\n",
      "8000/8000 [==============================] - 1s 67us/step - loss: 0.2962 - acc: 0.8894\n",
      "Epoch 98/125\n",
      "8000/8000 [==============================] - 1s 64us/step - loss: 0.2957 - acc: 0.8850\n",
      "Epoch 99/125\n",
      "8000/8000 [==============================] - 1s 68us/step - loss: 0.2963 - acc: 0.8866\n",
      "Epoch 100/125\n",
      "8000/8000 [==============================] - 1s 66us/step - loss: 0.2991 - acc: 0.8867\n",
      "Epoch 101/125\n",
      "8000/8000 [==============================] - 1s 71us/step - loss: 0.2921 - acc: 0.8890\n",
      "Epoch 102/125\n",
      "8000/8000 [==============================] - 1s 72us/step - loss: 0.2948 - acc: 0.8854\n",
      "Epoch 103/125\n",
      "8000/8000 [==============================] - 1s 67us/step - loss: 0.2938 - acc: 0.8866\n",
      "Epoch 104/125\n",
      "8000/8000 [==============================] - 1s 66us/step - loss: 0.2918 - acc: 0.8882\n",
      "Epoch 105/125\n",
      "8000/8000 [==============================] - 1s 68us/step - loss: 0.2917 - acc: 0.8904\n",
      "Epoch 106/125\n",
      "8000/8000 [==============================] - 1s 68us/step - loss: 0.2959 - acc: 0.8866\n",
      "Epoch 107/125\n",
      "8000/8000 [==============================] - 1s 65us/step - loss: 0.2877 - acc: 0.8900\n",
      "Epoch 108/125\n",
      "8000/8000 [==============================] - 1s 70us/step - loss: 0.2999 - acc: 0.8860\n",
      "Epoch 109/125\n",
      "8000/8000 [==============================] - 1s 68us/step - loss: 0.2888 - acc: 0.8891\n",
      "Epoch 110/125\n",
      "8000/8000 [==============================] - 1s 67us/step - loss: 0.2911 - acc: 0.8880\n",
      "Epoch 111/125\n",
      "8000/8000 [==============================] - 1s 68us/step - loss: 0.2925 - acc: 0.8871\n",
      "Epoch 112/125\n",
      "8000/8000 [==============================] - 1s 67us/step - loss: 0.2933 - acc: 0.8879\n",
      "Epoch 113/125\n",
      "8000/8000 [==============================] - 1s 67us/step - loss: 0.2914 - acc: 0.8910\n",
      "Epoch 114/125\n",
      "8000/8000 [==============================] - 1s 68us/step - loss: 0.2995 - acc: 0.8876\n",
      "Epoch 115/125\n",
      "8000/8000 [==============================] - 1s 67us/step - loss: 0.2940 - acc: 0.8870\n",
      "Epoch 116/125\n",
      "8000/8000 [==============================] - 1s 65us/step - loss: 0.2958 - acc: 0.8886\n",
      "Epoch 117/125\n",
      "8000/8000 [==============================] - 1s 68us/step - loss: 0.2906 - acc: 0.8907\n",
      "Epoch 118/125\n",
      "8000/8000 [==============================] - 1s 65us/step - loss: 0.2938 - acc: 0.8852\n",
      "Epoch 119/125\n",
      "8000/8000 [==============================] - 1s 63us/step - loss: 0.2941 - acc: 0.8924\n",
      "Epoch 120/125\n",
      "8000/8000 [==============================] - 1s 72us/step - loss: 0.2940 - acc: 0.8866\n",
      "Epoch 121/125\n",
      "8000/8000 [==============================] - 1s 65us/step - loss: 0.2903 - acc: 0.8894\n",
      "Epoch 122/125\n",
      "8000/8000 [==============================] - 1s 68us/step - loss: 0.2843 - acc: 0.8927\n",
      "Epoch 123/125\n",
      "8000/8000 [==============================] - 1s 66us/step - loss: 0.2972 - acc: 0.8865\n",
      "Epoch 124/125\n",
      "8000/8000 [==============================] - 1s 70us/step - loss: 0.2874 - acc: 0.8917\n",
      "Epoch 125/125\n",
      "8000/8000 [==============================] - 1s 68us/step - loss: 0.2914 - acc: 0.8854\n"
     ]
    },
    {
     "data": {
      "text/plain": [
       "<keras.callbacks.History at 0x7f2f380d2908>"
      ]
     },
     "execution_count": 34,
     "metadata": {},
     "output_type": "execute_result"
    }
   ],
   "source": [
    "tensorboard = TensorBoard(log_dir=\"logs/{}\".format(time()))\n",
    "\n",
    "model.fit(X_train, Y_train,\n",
    "          epochs=125,\n",
    "          batch_size=25,\n",
    "          callbacks=[tensorboard])\n"
   ]
  },
  {
   "cell_type": "markdown",
   "metadata": {},
   "source": [
    "## Loss"
   ]
  },
  {
   "cell_type": "markdown",
   "metadata": {},
   "source": [
    "![loss](img/loss.png)"
   ]
  },
  {
   "cell_type": "markdown",
   "metadata": {},
   "source": [
    "## Accuracy"
   ]
  },
  {
   "cell_type": "markdown",
   "metadata": {},
   "source": [
    "![acc](img/acc.png)"
   ]
  },
  {
   "cell_type": "markdown",
   "metadata": {},
   "source": [
    "### Evaluation"
   ]
  },
  {
   "cell_type": "code",
   "execution_count": 35,
   "metadata": {},
   "outputs": [
    {
     "name": "stdout",
     "output_type": "stream",
     "text": [
      "Testing:\n",
      "2000/2000 [==============================] - 0s 87us/step\n",
      "loss :  0.33511979794502256 \n",
      " acc :  0.8805\n"
     ]
    }
   ],
   "source": [
    "print('Testing:')\n",
    "score = model.evaluate(X_test, Y_test)\n",
    "print(model.metrics_names[0], ': ', score[0], '\\n', model.metrics_names[1], ': ',score[1])\n"
   ]
  },
  {
   "cell_type": "markdown",
   "metadata": {},
   "source": [
    "## Conclusion"
   ]
  },
  {
   "cell_type": "markdown",
   "metadata": {},
   "source": [
    "Despite almost no feature engineering, the ANN was still able to achieve around 90% accuracy on the test set which is in my opinion quite acceptable. It is important to remember that the distinction between an unforced and forced error is based on the nature of the incoming shot and a human judgment about whether the shot was playable or not. As you can imagine, this distinction is not a perfect science.  "
   ]
  }
 ],
 "metadata": {
  "kernelspec": {
   "display_name": "Python 3",
   "language": "python",
   "name": "python3"
  },
  "language_info": {
   "codemirror_mode": {
    "name": "ipython",
    "version": 3
   },
   "file_extension": ".py",
   "mimetype": "text/x-python",
   "name": "python",
   "nbconvert_exporter": "python",
   "pygments_lexer": "ipython3",
   "version": "3.6.3"
  }
 },
 "nbformat": 4,
 "nbformat_minor": 1
}
