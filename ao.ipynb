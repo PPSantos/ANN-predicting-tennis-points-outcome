{
 "cells": [
  {
   "cell_type": "markdown",
   "metadata": {},
   "source": [
    "# Predicting how points end in tennis"
   ]
  },
  {
   "cell_type": "markdown",
   "metadata": {},
   "source": [
    "## Abstract"
   ]
  },
  {
   "cell_type": "markdown",
   "metadata": {},
   "source": [
    "This is part of the code that I used in my solution to the CrowdAnalytix competition. It uses a three-layer neural network to predict the outcome of a tennis points among three classes (Winner, Forced error, Unforced error). The described solution is very raw and I think many improvements could still be made to improve the accuracy of the model (better feature engineering/model ensembling). My final model achieved an accuracy around 90%."
   ]
  },
  {
   "cell_type": "markdown",
   "metadata": {},
   "source": [
    "## Motivation\n",
    "Tennis, one of the most popular professional sports around the world, still uses manual coding of point outcomes.  This is not only labor-intensive but it also raises concerns that outcome categories may not always be consistent from one coder to the next. The purpose of this contest is to find a better approach. "
   ]
  },
  {
   "cell_type": "markdown",
   "metadata": {},
   "source": [
    "## Point Endings\n",
    "Every tennis match is made up of a sequence of points. A point begins with a serve and players exchange shots until a player makes an error or is unable to return a shot in play. \n",
    "\n",
    "Traditionally, the shot ending a point in tennis has been had been described in one of three mutually exclusive ways: a winner, an unforced error, or a forced error. A winner is a shot that was in play, not touched by the opponent, and ends with the point going to the player who made the shot. The other two categories are two distinct types of errors where both end with the point going to the player who did not make the shot. The distinction between an unforced and forced error is based on the nature of the incoming shot and a judgment about whether the shot was playable or not. As you can imagine, this distinction is not a perfect science.  "
   ]
  },
  {
   "cell_type": "markdown",
   "metadata": {},
   "source": [
    "## Outcome Coding\n",
    "Point endings give us insight into player performance. For this reason, accurate statistics about point outcomes are essential to the sport. At professional tennis tournaments, human coders are trained to label and document outcomes during matches. This is the primary way that the sport gathers information about winners and errors. "
   ]
  },
  {
   "cell_type": "markdown",
   "metadata": {},
   "source": [
    "## Tracking Data\n",
    "The adoption of the player challenge system in the mid-2000s has lead to the use of multi-camera tracking systems for the majority of top professional matches. These tracking systems monitor the 3D coordinates of the ball position and 2D coordinates of the player position throughout a match. The richness of these data hold considerable promise for addressing many challenging questions in the sport."
   ]
  },
  {
   "cell_type": "markdown",
   "metadata": {},
   "source": [
    "## Objective\n",
    "\n",
    "The objective of this contest is as follows:\n",
    "\n",
    "* Predict how a point ends in tennis using modern tracking data."
   ]
  },
  {
   "cell_type": "code",
   "execution_count": 1,
   "metadata": {},
   "outputs": [
    {
     "name": "stderr",
     "output_type": "stream",
     "text": [
      "Using TensorFlow backend.\n"
     ]
    }
   ],
   "source": [
    "import warnings; warnings.simplefilter('ignore')\n",
    "\n",
    "from time import time\n",
    "import numpy as np\n",
    "import pandas as pd\n",
    "\n",
    "from sklearn.preprocessing import LabelEncoder, StandardScaler\n",
    "from sklearn.model_selection import train_test_split, cross_val_score\n",
    "\n",
    "import keras\n",
    "from keras.models import Sequential\n",
    "from keras.layers import Dense, Dropout, Activation\n",
    "from keras.optimizers import SGD, Adam\n",
    "from keras.callbacks import TensorBoard\n",
    "from keras.wrappers.scikit_learn import KerasClassifier"
   ]
  },
  {
   "cell_type": "markdown",
   "metadata": {},
   "source": [
    "## Data"
   ]
  },
  {
   "cell_type": "code",
   "execution_count": 57,
   "metadata": {
    "collapsed": true
   },
   "outputs": [],
   "source": [
    "# Train data.\n",
    "df_mens = pd.read_csv('data/mens_train_file.csv', sep=',',header=0)\n",
    "df_womens = pd.read_csv('data/womens_train_file.csv', sep=',',header=0)\n",
    "frames = [df_mens, df_womens]\n",
    "df = pd.concat(frames)\n",
    "\n",
    "# Submission data.\n",
    "df_mens_test = pd.read_csv('data/mens_test_file.csv', sep=',',header=0)\n",
    "df_womens_test = pd.read_csv('data/womens_test_file.csv', sep=',',header=0)\n",
    "frames = [df_mens_test, df_womens_test]\n",
    "df_test = pd.concat(frames)\n",
    "df_test['submission_id'] = df_test['id'].map(str) + '_' + df_test['gender'].map(str)\n",
    "df_submission = pd.read_csv('data/AUS_SubmissionFormat.csv', sep=',',header=0)\n",
    "df_test = pd.merge(df_submission, df_test, how='outer', on=['submission_id', 'submission_id'])\n",
    "df_test.drop(['submission_id', 'train_x', 'UE', 'FE', 'W'], axis=1, inplace=True)"
   ]
  },
  {
   "cell_type": "code",
   "execution_count": 58,
   "metadata": {},
   "outputs": [
    {
     "name": "stdout",
     "output_type": "stream",
     "text": [
      "   rally  serve hitpoint      speed  net.clearance  distance.from.sideline  \\\n",
      "0      4      1        B  35.515042      -0.021725                3.474766   \n",
      "1      4      2        B  33.382640       1.114202                2.540801   \n",
      "2     23      1        B  22.316690      -0.254046                3.533166   \n",
      "3      9      1        F  36.837309       0.766694                0.586885   \n",
      "4      4      1        B  35.544208       0.116162                0.918725   \n",
      "\n",
      "      depth  outside.sideline  outside.baseline  player.distance.travelled  \\\n",
      "0  6.797621             False             False                   1.467570   \n",
      "1  2.608708             False              True                   2.311931   \n",
      "2  9.435749             False             False                   3.903728   \n",
      "3  3.342180              True             False                   0.583745   \n",
      "4  5.499119             False             False                   2.333456   \n",
      "\n",
      "    ...    opponent.depth  opponent.distance.from.center  same.side  \\\n",
      "0   ...           12.5628                         2.0724       True   \n",
      "1   ...           12.3544                         5.1124      False   \n",
      "2   ...           13.8620                         1.6564      False   \n",
      "3   ...           14.2596                         0.1606       True   \n",
      "4   ...           11.3658                         1.1082      False   \n",
      "\n",
      "   previous.hitpoint  previous.time.to.net  server.is.impact.player    id  \\\n",
      "0                  F              0.445318                    False  5718   \n",
      "1                  B              0.432434                    False   371   \n",
      "2                  F              0.397538                     True  7948   \n",
      "3                  B              0.671984                     True  9312   \n",
      "4                  F              0.340411                    False  7667   \n",
      "\n",
      "   train  outcome  gender  \n",
      "0      1       UE    mens  \n",
      "1      1       FE    mens  \n",
      "2      1       FE    mens  \n",
      "3      1       UE    mens  \n",
      "4      1        W    mens  \n",
      "\n",
      "[5 rows x 28 columns]\n"
     ]
    }
   ],
   "source": [
    "print(df.head())"
   ]
  },
  {
   "cell_type": "code",
   "execution_count": 59,
   "metadata": {},
   "outputs": [
    {
     "name": "stdout",
     "output_type": "stream",
     "text": [
      "[[1 'B' 35.51504197 ..., 'F' 0.445317963 False]\n",
      " [2 'B' 33.38264003 ..., 'B' 0.43243397299999997 False]\n",
      " [1 'B' 22.3166902 ..., 'F' 0.397537762 True]\n",
      " ..., \n",
      " [2 'F' 16.90628902 ..., 'B' 0.966185615 False]\n",
      " [2 'F' 15.19971253 ..., 'B' 0.887608207 False]\n",
      " [1 'F' 30.67953985 ..., 'B' 0.562388497 True]]\n",
      "['UE' 'FE' 'FE' ..., 'W' 'W' 'UE']\n",
      "(10000, 23)\n",
      "(10000,)\n"
     ]
    }
   ],
   "source": [
    "X = df.iloc[:, 1:24].values\n",
    "Y = df.iloc[:, 26].values\n",
    "X_pred = df_test.iloc[:, 1:24].values\n",
    "print(X)\n",
    "print(Y)\n",
    "print(X.shape)\n",
    "print(Y.shape)"
   ]
  },
  {
   "cell_type": "markdown",
   "metadata": {},
   "source": [
    "### Pre-processing"
   ]
  },
  {
   "cell_type": "code",
   "execution_count": 61,
   "metadata": {},
   "outputs": [
    {
     "ename": "ValueError",
     "evalue": "bad input shape (10000, 3)",
     "output_type": "error",
     "traceback": [
      "\u001b[0;31m---------------------------------------------------------------------------\u001b[0m",
      "\u001b[0;31mValueError\u001b[0m                                Traceback (most recent call last)",
      "\u001b[0;32m<ipython-input-61-2f6648244f27>\u001b[0m in \u001b[0;36m<module>\u001b[0;34m()\u001b[0m\n\u001b[1;32m      6\u001b[0m \u001b[0;34m\u001b[0m\u001b[0m\n\u001b[1;32m      7\u001b[0m \u001b[0;31m# Categorical representation: ['FE', 'UE', 'W']\u001b[0m\u001b[0;34m\u001b[0m\u001b[0;34m\u001b[0m\u001b[0m\n\u001b[0;32m----> 8\u001b[0;31m \u001b[0mY\u001b[0m \u001b[0;34m=\u001b[0m \u001b[0mkeras\u001b[0m\u001b[0;34m.\u001b[0m\u001b[0mutils\u001b[0m\u001b[0;34m.\u001b[0m\u001b[0mto_categorical\u001b[0m\u001b[0;34m(\u001b[0m\u001b[0mlabelEncoder\u001b[0m\u001b[0;34m.\u001b[0m\u001b[0mfit_transform\u001b[0m\u001b[0;34m(\u001b[0m\u001b[0mY\u001b[0m\u001b[0;34m)\u001b[0m\u001b[0;34m,\u001b[0m \u001b[0mnum_classes\u001b[0m\u001b[0;34m=\u001b[0m\u001b[0;36m3\u001b[0m\u001b[0;34m)\u001b[0m\u001b[0;34m\u001b[0m\u001b[0m\n\u001b[0m\u001b[1;32m      9\u001b[0m \u001b[0;34m\u001b[0m\u001b[0m\n\u001b[1;32m     10\u001b[0m \u001b[0mX_train\u001b[0m\u001b[0;34m,\u001b[0m \u001b[0mX_test\u001b[0m\u001b[0;34m,\u001b[0m \u001b[0mY_train\u001b[0m\u001b[0;34m,\u001b[0m \u001b[0mY_test\u001b[0m \u001b[0;34m=\u001b[0m \u001b[0mtrain_test_split\u001b[0m\u001b[0;34m(\u001b[0m\u001b[0mX\u001b[0m\u001b[0;34m,\u001b[0m \u001b[0mY\u001b[0m\u001b[0;34m,\u001b[0m \u001b[0mtest_size\u001b[0m \u001b[0;34m=\u001b[0m \u001b[0;36m0.2\u001b[0m\u001b[0;34m,\u001b[0m \u001b[0mshuffle\u001b[0m\u001b[0;34m=\u001b[0m\u001b[0mTrue\u001b[0m\u001b[0;34m)\u001b[0m\u001b[0;34m\u001b[0m\u001b[0m\n",
      "\u001b[0;32m/usr/local/lib/python2.7/dist-packages/sklearn/preprocessing/label.pyc\u001b[0m in \u001b[0;36mfit_transform\u001b[0;34m(self, y)\u001b[0m\n\u001b[1;32m    127\u001b[0m         \u001b[0my\u001b[0m \u001b[0;34m:\u001b[0m \u001b[0marray\u001b[0m\u001b[0;34m-\u001b[0m\u001b[0mlike\u001b[0m \u001b[0mof\u001b[0m \u001b[0mshape\u001b[0m \u001b[0;34m[\u001b[0m\u001b[0mn_samples\u001b[0m\u001b[0;34m]\u001b[0m\u001b[0;34m\u001b[0m\u001b[0m\n\u001b[1;32m    128\u001b[0m         \"\"\"\n\u001b[0;32m--> 129\u001b[0;31m         \u001b[0my\u001b[0m \u001b[0;34m=\u001b[0m \u001b[0mcolumn_or_1d\u001b[0m\u001b[0;34m(\u001b[0m\u001b[0my\u001b[0m\u001b[0;34m,\u001b[0m \u001b[0mwarn\u001b[0m\u001b[0;34m=\u001b[0m\u001b[0mTrue\u001b[0m\u001b[0;34m)\u001b[0m\u001b[0;34m\u001b[0m\u001b[0m\n\u001b[0m\u001b[1;32m    130\u001b[0m         \u001b[0m_check_numpy_unicode_bug\u001b[0m\u001b[0;34m(\u001b[0m\u001b[0my\u001b[0m\u001b[0;34m)\u001b[0m\u001b[0;34m\u001b[0m\u001b[0m\n\u001b[1;32m    131\u001b[0m         \u001b[0mself\u001b[0m\u001b[0;34m.\u001b[0m\u001b[0mclasses_\u001b[0m\u001b[0;34m,\u001b[0m \u001b[0my\u001b[0m \u001b[0;34m=\u001b[0m \u001b[0mnp\u001b[0m\u001b[0;34m.\u001b[0m\u001b[0munique\u001b[0m\u001b[0;34m(\u001b[0m\u001b[0my\u001b[0m\u001b[0;34m,\u001b[0m \u001b[0mreturn_inverse\u001b[0m\u001b[0;34m=\u001b[0m\u001b[0mTrue\u001b[0m\u001b[0;34m)\u001b[0m\u001b[0;34m\u001b[0m\u001b[0m\n",
      "\u001b[0;32m/usr/local/lib/python2.7/dist-packages/sklearn/utils/validation.pyc\u001b[0m in \u001b[0;36mcolumn_or_1d\u001b[0;34m(y, warn)\u001b[0m\n\u001b[1;32m    560\u001b[0m         \u001b[0;32mreturn\u001b[0m \u001b[0mnp\u001b[0m\u001b[0;34m.\u001b[0m\u001b[0mravel\u001b[0m\u001b[0;34m(\u001b[0m\u001b[0my\u001b[0m\u001b[0;34m)\u001b[0m\u001b[0;34m\u001b[0m\u001b[0m\n\u001b[1;32m    561\u001b[0m \u001b[0;34m\u001b[0m\u001b[0m\n\u001b[0;32m--> 562\u001b[0;31m     \u001b[0;32mraise\u001b[0m \u001b[0mValueError\u001b[0m\u001b[0;34m(\u001b[0m\u001b[0;34m\"bad input shape {0}\"\u001b[0m\u001b[0;34m.\u001b[0m\u001b[0mformat\u001b[0m\u001b[0;34m(\u001b[0m\u001b[0mshape\u001b[0m\u001b[0;34m)\u001b[0m\u001b[0;34m)\u001b[0m\u001b[0;34m\u001b[0m\u001b[0m\n\u001b[0m\u001b[1;32m    563\u001b[0m \u001b[0;34m\u001b[0m\u001b[0m\n\u001b[1;32m    564\u001b[0m \u001b[0;34m\u001b[0m\u001b[0m\n",
      "\u001b[0;31mValueError\u001b[0m: bad input shape (10000, 3)"
     ]
    }
   ],
   "source": [
    "# Encoding categorical data.\n",
    "labelEncoder = LabelEncoder()\n",
    "for col in [1,6,7,19,20,22]:\n",
    "    X[:, col] = labelEncoder.fit_transform(X[:, col])\n",
    "    X_pred[:, col] = labelEncoder.fit_transform(X_pred[:, col])\n",
    "\n",
    "# Categorical representation: ['FE', 'UE', 'W']\n",
    "Y = keras.utils.to_categorical(labelEncoder.fit_transform(Y), num_classes=3)\n",
    "\n",
    "X_train, X_test, Y_train, Y_test = train_test_split(X, Y, test_size = 0.2, shuffle=True)\n",
    "\n",
    "# Feature Scaling.\n",
    "sc = StandardScaler()\n",
    "X_train = sc.fit_transform(X_train)\n",
    "X_test = sc.transform(X_test)\n",
    "X_pred = sc.transform(X_pred)\n"
   ]
  },
  {
   "cell_type": "code",
   "execution_count": 47,
   "metadata": {},
   "outputs": [
    {
     "name": "stdout",
     "output_type": "stream",
     "text": [
      "('X_train: ', (8000, 24))\n",
      "('Y_train: ', (8000, 3))\n",
      "('X_test: ', (2000, 24))\n",
      "('Y_test: ', (2000, 3))\n"
     ]
    }
   ],
   "source": [
    "# Check shapes.\n",
    "print(\"X_train: \", X_train.shape)\n",
    "print(\"Y_train: \", Y_train.shape)\n",
    "print(\"X_test: \", X_test.shape)\n",
    "print(\"Y_test: \", Y_test.shape)\n"
   ]
  },
  {
   "cell_type": "markdown",
   "metadata": {},
   "source": [
    "### Model"
   ]
  },
  {
   "cell_type": "code",
   "execution_count": 38,
   "metadata": {
    "collapsed": true
   },
   "outputs": [],
   "source": [
    "def classifier():\n",
    "\n",
    "    model = Sequential()\n",
    "\n",
    "    model.add(Dense(64, activation='relu', input_dim=X_train.shape[1]))\n",
    "    model.add(Dropout(0.3))\n",
    "    model.add(Dense(64, activation='relu'))\n",
    "    model.add(Dropout(0.3))\n",
    "    model.add(Dense(64, activation='relu'))\n",
    "    model.add(Dropout(0.3))\n",
    "    model.add(Dense(3, activation='softmax'))\n",
    "\n",
    "    model.compile(loss='categorical_crossentropy',\n",
    "                optimizer='adam',\n",
    "                metrics=['accuracy'])\n",
    "\n",
    "    return model"
   ]
  },
  {
   "cell_type": "markdown",
   "metadata": {},
   "source": [
    "![title](img/graph.png)"
   ]
  },
  {
   "cell_type": "markdown",
   "metadata": {},
   "source": [
    "### Train"
   ]
  },
  {
   "cell_type": "code",
   "execution_count": 39,
   "metadata": {},
   "outputs": [
    {
     "name": "stdout",
     "output_type": "stream",
     "text": [
      "Epoch 1/120\n",
      "8000/8000 [==============================] - 0s 59us/step - loss: 0.8074 - acc: 0.6246\n",
      "Epoch 2/120\n",
      "8000/8000 [==============================] - 0s 58us/step - loss: 0.5868 - acc: 0.7631\n",
      "Epoch 3/120\n",
      "8000/8000 [==============================] - 0s 60us/step - loss: 0.5316 - acc: 0.7902\n",
      "Epoch 4/120\n",
      "8000/8000 [==============================] - 0s 60us/step - loss: 0.5074 - acc: 0.8026\n",
      "Epoch 5/120\n",
      "8000/8000 [==============================] - 0s 61us/step - loss: 0.4822 - acc: 0.8142\n",
      "Epoch 6/120\n",
      "8000/8000 [==============================] - 0s 61us/step - loss: 0.4581 - acc: 0.8209\n",
      "Epoch 7/120\n",
      "8000/8000 [==============================] - 0s 60us/step - loss: 0.4525 - acc: 0.8280\n",
      "Epoch 8/120\n",
      "8000/8000 [==============================] - 0s 60us/step - loss: 0.4443 - acc: 0.8267\n",
      "Epoch 9/120\n",
      "8000/8000 [==============================] - 1s 67us/step - loss: 0.4385 - acc: 0.8335\n",
      "Epoch 10/120\n",
      "8000/8000 [==============================] - 0s 60us/step - loss: 0.4261 - acc: 0.8362\n",
      "Epoch 11/120\n",
      "8000/8000 [==============================] - 0s 58us/step - loss: 0.4200 - acc: 0.8402\n",
      "Epoch 12/120\n",
      "8000/8000 [==============================] - 0s 61us/step - loss: 0.4111 - acc: 0.8406\n",
      "Epoch 13/120\n",
      "8000/8000 [==============================] - 0s 62us/step - loss: 0.4080 - acc: 0.8442\n",
      "Epoch 14/120\n",
      "8000/8000 [==============================] - 0s 60us/step - loss: 0.4060 - acc: 0.8451\n",
      "Epoch 15/120\n",
      "8000/8000 [==============================] - ETA: 0s - loss: 0.4009 - acc: 0.844 - 1s 64us/step - loss: 0.4038 - acc: 0.8430\n",
      "Epoch 16/120\n",
      "8000/8000 [==============================] - 0s 62us/step - loss: 0.3915 - acc: 0.8507\n",
      "Epoch 17/120\n",
      "8000/8000 [==============================] - 1s 63us/step - loss: 0.3935 - acc: 0.8490\n",
      "Epoch 18/120\n",
      "8000/8000 [==============================] - 0s 62us/step - loss: 0.3914 - acc: 0.8459\n",
      "Epoch 19/120\n",
      "8000/8000 [==============================] - 0s 62us/step - loss: 0.3881 - acc: 0.8496\n",
      "Epoch 20/120\n",
      "8000/8000 [==============================] - 1s 64us/step - loss: 0.3805 - acc: 0.8542\n",
      "Epoch 21/120\n",
      "8000/8000 [==============================] - 0s 61us/step - loss: 0.3731 - acc: 0.8611\n",
      "Epoch 22/120\n",
      "8000/8000 [==============================] - 0s 62us/step - loss: 0.3683 - acc: 0.8582\n",
      "Epoch 23/120\n",
      "8000/8000 [==============================] - 0s 62us/step - loss: 0.3700 - acc: 0.8600\n",
      "Epoch 24/120\n",
      "8000/8000 [==============================] - 1s 63us/step - loss: 0.3661 - acc: 0.8562\n",
      "Epoch 25/120\n",
      "8000/8000 [==============================] - 1s 63us/step - loss: 0.3572 - acc: 0.8626\n",
      "Epoch 26/120\n",
      "8000/8000 [==============================] - 0s 61us/step - loss: 0.3593 - acc: 0.8612\n",
      "Epoch 27/120\n",
      "8000/8000 [==============================] - 1s 63us/step - loss: 0.3585 - acc: 0.8664\n",
      "Epoch 28/120\n",
      "8000/8000 [==============================] - 0s 62us/step - loss: 0.3514 - acc: 0.8665\n",
      "Epoch 29/120\n",
      "8000/8000 [==============================] - 1s 63us/step - loss: 0.3422 - acc: 0.8695\n",
      "Epoch 30/120\n",
      "8000/8000 [==============================] - 0s 62us/step - loss: 0.3487 - acc: 0.8687\n",
      "Epoch 31/120\n",
      "8000/8000 [==============================] - 0s 62us/step - loss: 0.3480 - acc: 0.8672\n",
      "Epoch 32/120\n",
      "8000/8000 [==============================] - 1s 63us/step - loss: 0.3435 - acc: 0.8704\n",
      "Epoch 33/120\n",
      "8000/8000 [==============================] - 1s 63us/step - loss: 0.3355 - acc: 0.8721\n",
      "Epoch 34/120\n",
      "8000/8000 [==============================] - 0s 62us/step - loss: 0.3342 - acc: 0.8747\n",
      "Epoch 35/120\n",
      "8000/8000 [==============================] - 0s 61us/step - loss: 0.3479 - acc: 0.8690\n",
      "Epoch 36/120\n",
      "8000/8000 [==============================] - 1s 63us/step - loss: 0.3435 - acc: 0.8689\n",
      "Epoch 37/120\n",
      "8000/8000 [==============================] - 0s 60us/step - loss: 0.3313 - acc: 0.8756\n",
      "Epoch 38/120\n",
      "8000/8000 [==============================] - 0s 62us/step - loss: 0.3338 - acc: 0.8730\n",
      "Epoch 39/120\n",
      "8000/8000 [==============================] - 1s 127us/step - loss: 0.3265 - acc: 0.8736\n",
      "Epoch 40/120\n",
      "8000/8000 [==============================] - 0s 62us/step - loss: 0.3273 - acc: 0.8751\n",
      "Epoch 41/120\n",
      "8000/8000 [==============================] - 1s 64us/step - loss: 0.3223 - acc: 0.8774\n",
      "Epoch 42/120\n",
      "8000/8000 [==============================] - 1s 68us/step - loss: 0.3265 - acc: 0.8717\n",
      "Epoch 43/120\n",
      "8000/8000 [==============================] - 1s 69us/step - loss: 0.3244 - acc: 0.8745\n",
      "Epoch 44/120\n",
      "8000/8000 [==============================] - 1s 84us/step - loss: 0.3228 - acc: 0.8767\n",
      "Epoch 45/120\n",
      "8000/8000 [==============================] - 1s 63us/step - loss: 0.3203 - acc: 0.8797\n",
      "Epoch 46/120\n",
      "8000/8000 [==============================] - 1s 78us/step - loss: 0.3171 - acc: 0.8799\n",
      "Epoch 47/120\n",
      "8000/8000 [==============================] - 0s 62us/step - loss: 0.3190 - acc: 0.8800\n",
      "Epoch 48/120\n",
      "8000/8000 [==============================] - 0s 61us/step - loss: 0.3208 - acc: 0.8806\n",
      "Epoch 49/120\n",
      "8000/8000 [==============================] - 0s 61us/step - loss: 0.3112 - acc: 0.8812\n",
      "Epoch 50/120\n",
      "8000/8000 [==============================] - 0s 61us/step - loss: 0.3117 - acc: 0.8824\n",
      "Epoch 51/120\n",
      "8000/8000 [==============================] - 0s 62us/step - loss: 0.3146 - acc: 0.8836\n",
      "Epoch 52/120\n",
      "8000/8000 [==============================] - 0s 62us/step - loss: 0.3110 - acc: 0.8811\n",
      "Epoch 53/120\n",
      "8000/8000 [==============================] - 1s 63us/step - loss: 0.3231 - acc: 0.8767: 0s - loss: 0.3284 - acc\n",
      "Epoch 54/120\n",
      "8000/8000 [==============================] - 1s 63us/step - loss: 0.3099 - acc: 0.8809\n",
      "Epoch 55/120\n",
      "8000/8000 [==============================] - 0s 62us/step - loss: 0.3023 - acc: 0.8864\n",
      "Epoch 56/120\n",
      "8000/8000 [==============================] - 1s 63us/step - loss: 0.3102 - acc: 0.8804\n",
      "Epoch 57/120\n",
      "8000/8000 [==============================] - 1s 70us/step - loss: 0.3085 - acc: 0.8834\n",
      "Epoch 58/120\n",
      "8000/8000 [==============================] - 1s 64us/step - loss: 0.3045 - acc: 0.8811\n",
      "Epoch 59/120\n",
      "8000/8000 [==============================] - 1s 70us/step - loss: 0.3011 - acc: 0.8839\n",
      "Epoch 60/120\n",
      "8000/8000 [==============================] - 1s 92us/step - loss: 0.3001 - acc: 0.8825\n",
      "Epoch 61/120\n",
      "8000/8000 [==============================] - 1s 84us/step - loss: 0.3066 - acc: 0.8804\n",
      "Epoch 62/120\n",
      "8000/8000 [==============================] - 1s 69us/step - loss: 0.3050 - acc: 0.8796\n",
      "Epoch 63/120\n",
      "8000/8000 [==============================] - 1s 79us/step - loss: 0.3064 - acc: 0.8827\n",
      "Epoch 64/120\n",
      "8000/8000 [==============================] - 1s 81us/step - loss: 0.3017 - acc: 0.8856\n",
      "Epoch 65/120\n",
      "8000/8000 [==============================] - 1s 69us/step - loss: 0.3066 - acc: 0.8832\n",
      "Epoch 66/120\n",
      "8000/8000 [==============================] - 1s 95us/step - loss: 0.3080 - acc: 0.8836\n",
      "Epoch 67/120\n",
      "8000/8000 [==============================] - 1s 96us/step - loss: 0.3024 - acc: 0.8872\n",
      "Epoch 68/120\n",
      "8000/8000 [==============================] - 1s 69us/step - loss: 0.2950 - acc: 0.8847\n",
      "Epoch 69/120\n",
      "8000/8000 [==============================] - 0s 53us/step - loss: 0.2979 - acc: 0.8889\n",
      "Epoch 70/120\n",
      "8000/8000 [==============================] - 0s 50us/step - loss: 0.2980 - acc: 0.8856\n",
      "Epoch 71/120\n",
      "8000/8000 [==============================] - 1s 76us/step - loss: 0.2944 - acc: 0.8901\n",
      "Epoch 72/120\n",
      "8000/8000 [==============================] - 1s 90us/step - loss: 0.2954 - acc: 0.8837\n",
      "Epoch 73/120\n",
      "8000/8000 [==============================] - 0s 60us/step - loss: 0.2963 - acc: 0.8859\n",
      "Epoch 74/120\n",
      "8000/8000 [==============================] - 0s 56us/step - loss: 0.2925 - acc: 0.8900\n",
      "Epoch 75/120\n",
      "8000/8000 [==============================] - 0s 47us/step - loss: 0.2942 - acc: 0.8876\n",
      "Epoch 76/120\n",
      "8000/8000 [==============================] - 0s 44us/step - loss: 0.2818 - acc: 0.8901\n",
      "Epoch 77/120\n",
      "8000/8000 [==============================] - 0s 44us/step - loss: 0.2949 - acc: 0.8900\n",
      "Epoch 78/120\n",
      "8000/8000 [==============================] - 0s 48us/step - loss: 0.2881 - acc: 0.8877\n",
      "Epoch 79/120\n",
      "8000/8000 [==============================] - 0s 46us/step - loss: 0.2983 - acc: 0.8836\n",
      "Epoch 80/120\n",
      "8000/8000 [==============================] - 0s 44us/step - loss: 0.2928 - acc: 0.8902\n",
      "Epoch 81/120\n",
      "8000/8000 [==============================] - 0s 46us/step - loss: 0.2850 - acc: 0.8882\n",
      "Epoch 82/120\n"
     ]
    },
    {
     "name": "stdout",
     "output_type": "stream",
     "text": [
      "8000/8000 [==============================] - 0s 46us/step - loss: 0.2878 - acc: 0.8910\n",
      "Epoch 83/120\n",
      "8000/8000 [==============================] - 0s 45us/step - loss: 0.2943 - acc: 0.8857\n",
      "Epoch 84/120\n",
      "8000/8000 [==============================] - 0s 44us/step - loss: 0.2823 - acc: 0.8919\n",
      "Epoch 85/120\n",
      "8000/8000 [==============================] - 0s 43us/step - loss: 0.2929 - acc: 0.8911\n",
      "Epoch 86/120\n",
      "8000/8000 [==============================] - 0s 43us/step - loss: 0.2837 - acc: 0.8910\n",
      "Epoch 87/120\n",
      "8000/8000 [==============================] - 0s 49us/step - loss: 0.2814 - acc: 0.8926\n",
      "Epoch 88/120\n",
      "8000/8000 [==============================] - 0s 49us/step - loss: 0.2885 - acc: 0.8899\n",
      "Epoch 89/120\n",
      "8000/8000 [==============================] - 0s 43us/step - loss: 0.2973 - acc: 0.8901\n",
      "Epoch 90/120\n",
      "8000/8000 [==============================] - 0s 46us/step - loss: 0.2859 - acc: 0.8931\n",
      "Epoch 91/120\n",
      "8000/8000 [==============================] - 0s 47us/step - loss: 0.2867 - acc: 0.8916\n",
      "Epoch 92/120\n",
      "8000/8000 [==============================] - 0s 47us/step - loss: 0.2819 - acc: 0.8906\n",
      "Epoch 93/120\n",
      "8000/8000 [==============================] - 0s 48us/step - loss: 0.2773 - acc: 0.8967\n",
      "Epoch 94/120\n",
      "8000/8000 [==============================] - 0s 43us/step - loss: 0.2837 - acc: 0.8905\n",
      "Epoch 95/120\n",
      "8000/8000 [==============================] - 0s 46us/step - loss: 0.2826 - acc: 0.8949\n",
      "Epoch 96/120\n",
      "8000/8000 [==============================] - 0s 58us/step - loss: 0.2862 - acc: 0.8937\n",
      "Epoch 97/120\n",
      "8000/8000 [==============================] - 1s 69us/step - loss: 0.2787 - acc: 0.8934\n",
      "Epoch 98/120\n",
      "8000/8000 [==============================] - 1s 73us/step - loss: 0.2791 - acc: 0.8970\n",
      "Epoch 99/120\n",
      "8000/8000 [==============================] - 1s 136us/step - loss: 0.2818 - acc: 0.8916\n",
      "Epoch 100/120\n",
      "8000/8000 [==============================] - 1s 110us/step - loss: 0.2856 - acc: 0.8901\n",
      "Epoch 101/120\n",
      "8000/8000 [==============================] - 0s 48us/step - loss: 0.2909 - acc: 0.8944\n",
      "Epoch 102/120\n",
      "8000/8000 [==============================] - 0s 47us/step - loss: 0.2817 - acc: 0.8917\n",
      "Epoch 103/120\n",
      "8000/8000 [==============================] - 0s 47us/step - loss: 0.2836 - acc: 0.8894\n",
      "Epoch 104/120\n",
      "8000/8000 [==============================] - 1s 66us/step - loss: 0.2831 - acc: 0.8962\n",
      "Epoch 105/120\n",
      "8000/8000 [==============================] - 0s 62us/step - loss: 0.2799 - acc: 0.8942\n",
      "Epoch 106/120\n",
      "8000/8000 [==============================] - 1s 68us/step - loss: 0.2758 - acc: 0.8956\n",
      "Epoch 107/120\n",
      "8000/8000 [==============================] - 0s 55us/step - loss: 0.2838 - acc: 0.8941\n",
      "Epoch 108/120\n",
      "8000/8000 [==============================] - 0s 56us/step - loss: 0.2689 - acc: 0.8982\n",
      "Epoch 109/120\n",
      "8000/8000 [==============================] - 0s 56us/step - loss: 0.2882 - acc: 0.8937\n",
      "Epoch 110/120\n",
      "8000/8000 [==============================] - 0s 52us/step - loss: 0.2887 - acc: 0.8904\n",
      "Epoch 111/120\n",
      "8000/8000 [==============================] - 0s 46us/step - loss: 0.2817 - acc: 0.8917\n",
      "Epoch 112/120\n",
      "8000/8000 [==============================] - 0s 58us/step - loss: 0.2769 - acc: 0.8946\n",
      "Epoch 113/120\n",
      "8000/8000 [==============================] - 1s 74us/step - loss: 0.2750 - acc: 0.8956\n",
      "Epoch 114/120\n",
      "8000/8000 [==============================] - 0s 55us/step - loss: 0.2771 - acc: 0.8941\n",
      "Epoch 115/120\n",
      "8000/8000 [==============================] - 0s 50us/step - loss: 0.2782 - acc: 0.8940\n",
      "Epoch 116/120\n",
      "8000/8000 [==============================] - 0s 50us/step - loss: 0.2769 - acc: 0.8927\n",
      "Epoch 117/120\n",
      "8000/8000 [==============================] - 0s 43us/step - loss: 0.2801 - acc: 0.8956\n",
      "Epoch 118/120\n",
      "8000/8000 [==============================] - 0s 60us/step - loss: 0.2801 - acc: 0.8927\n",
      "Epoch 119/120\n",
      "8000/8000 [==============================] - 1s 71us/step - loss: 0.2707 - acc: 0.8957\n",
      "Epoch 120/120\n",
      "8000/8000 [==============================] - 1s 139us/step - loss: 0.2761 - acc: 0.8956\n"
     ]
    },
    {
     "data": {
      "text/plain": [
       "<keras.callbacks.History at 0x7f2c1e117b50>"
      ]
     },
     "execution_count": 39,
     "metadata": {},
     "output_type": "execute_result"
    }
   ],
   "source": [
    "\n",
    "model = classifier()\n",
    "\n",
    "tensorboard = TensorBoard(log_dir=\"logs/{}\".format(time()))\n",
    "\n",
    "model.fit(X_train, Y_train,\n",
    "          epochs=120,\n",
    "          batch_size=25,\n",
    "          callbacks=[tensorboard])\n"
   ]
  },
  {
   "cell_type": "markdown",
   "metadata": {},
   "source": [
    "![acc](img/acc.png)"
   ]
  },
  {
   "cell_type": "markdown",
   "metadata": {},
   "source": [
    "### Evaluation"
   ]
  },
  {
   "cell_type": "code",
   "execution_count": 40,
   "metadata": {},
   "outputs": [
    {
     "name": "stdout",
     "output_type": "stream",
     "text": [
      "Testing:\n",
      "2000/2000 [==============================] - 0s 74us/step\n",
      "loss :  0.398554241061 \n",
      "acc :  0.864\n"
     ]
    }
   ],
   "source": [
    "print('Testing:')\n",
    "score = model.evaluate(X_test, Y_test)\n",
    "print model.metrics_names[0], ': ', score[0], '\\n', model.metrics_names[1], ': ',score[1]\n"
   ]
  },
  {
   "cell_type": "code",
   "execution_count": null,
   "metadata": {
    "collapsed": true
   },
   "outputs": [],
   "source": []
  }
 ],
 "metadata": {
  "kernelspec": {
   "display_name": "Python 3",
   "language": "python",
   "name": "python3"
  },
  "language_info": {
   "codemirror_mode": {
    "name": "ipython",
    "version": 2
   },
   "file_extension": ".py",
   "mimetype": "text/x-python",
   "name": "python",
   "nbconvert_exporter": "python",
   "pygments_lexer": "ipython2",
   "version": "2.7.12"
  }
 },
 "nbformat": 4,
 "nbformat_minor": 1
}
